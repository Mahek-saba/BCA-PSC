{
 "cells": [
  {
   "cell_type": "code",
   "execution_count": 25,
   "id": "2639db96-6321-40b1-b734-139477903c09",
   "metadata": {},
   "outputs": [],
   "source": [
    "name=\"mahek saba\""
   ]
  },
  {
   "cell_type": "code",
   "execution_count": 26,
   "id": "68383156-f646-494f-bd04-bfe820f3c561",
   "metadata": {},
   "outputs": [
    {
     "data": {
      "text/plain": [
       "'mahek saba'"
      ]
     },
     "execution_count": 26,
     "metadata": {},
     "output_type": "execute_result"
    }
   ],
   "source": [
    "name"
   ]
  },
  {
   "cell_type": "code",
   "execution_count": 27,
   "id": "56f7141c-86d6-4ccd-aae1-0d2088e13235",
   "metadata": {},
   "outputs": [
    {
     "data": {
      "text/plain": [
       "'MAHEK SABA'"
      ]
     },
     "execution_count": 27,
     "metadata": {},
     "output_type": "execute_result"
    }
   ],
   "source": [
    "name.upper()"
   ]
  },
  {
   "cell_type": "code",
   "execution_count": 28,
   "id": "6c7cc920-5413-4158-a08a-affff7ae2164",
   "metadata": {},
   "outputs": [
    {
     "data": {
      "text/plain": [
       "'mahek saba'"
      ]
     },
     "execution_count": 28,
     "metadata": {},
     "output_type": "execute_result"
    }
   ],
   "source": [
    "name"
   ]
  },
  {
   "cell_type": "code",
   "execution_count": 29,
   "id": "02eebd79-19ee-437b-96fb-599467d03ba6",
   "metadata": {},
   "outputs": [
    {
     "data": {
      "text/plain": [
       "'mahek saba'"
      ]
     },
     "execution_count": 29,
     "metadata": {},
     "output_type": "execute_result"
    }
   ],
   "source": [
    "name.lower()"
   ]
  },
  {
   "cell_type": "code",
   "execution_count": 30,
   "id": "a6caca73-edf9-4d54-8e42-424fd153aa5a",
   "metadata": {},
   "outputs": [
    {
     "data": {
      "text/plain": [
       "'mahek saba'"
      ]
     },
     "execution_count": 30,
     "metadata": {},
     "output_type": "execute_result"
    }
   ],
   "source": [
    "name"
   ]
  },
  {
   "cell_type": "code",
   "execution_count": 31,
   "id": "4925c946-5dfc-4f2d-aad3-8285944ac131",
   "metadata": {},
   "outputs": [],
   "source": [
    "name = name.lower()"
   ]
  },
  {
   "cell_type": "code",
   "execution_count": 32,
   "id": "b0a7355e-7c72-4ccd-84b8-b16f6db5f785",
   "metadata": {},
   "outputs": [
    {
     "data": {
      "text/plain": [
       "'mahek saba'"
      ]
     },
     "execution_count": 32,
     "metadata": {},
     "output_type": "execute_result"
    }
   ],
   "source": [
    "name"
   ]
  },
  {
   "cell_type": "code",
   "execution_count": 37,
   "id": "d391ad65-adab-46d5-b788-09d31c77f971",
   "metadata": {},
   "outputs": [],
   "source": [
    "name1= \"saba\""
   ]
  },
  {
   "cell_type": "code",
   "execution_count": 39,
   "id": "e33b3ed3-df66-492c-9bec-372a9f15a178",
   "metadata": {},
   "outputs": [
    {
     "data": {
      "text/plain": [
       "'saba'"
      ]
     },
     "execution_count": 39,
     "metadata": {},
     "output_type": "execute_result"
    }
   ],
   "source": [
    "name1"
   ]
  },
  {
   "cell_type": "code",
   "execution_count": 40,
   "id": "b8883f44-28c2-49cd-a299-82e027fb2c4d",
   "metadata": {},
   "outputs": [
    {
     "data": {
      "text/plain": [
       "'SABA'"
      ]
     },
     "execution_count": 40,
     "metadata": {},
     "output_type": "execute_result"
    }
   ],
   "source": [
    "name1.swapcase()"
   ]
  },
  {
   "cell_type": "code",
   "execution_count": 41,
   "id": "887b2467-003a-4801-958f-3755f67a7552",
   "metadata": {},
   "outputs": [],
   "source": [
    "name2=\"     adnan  khan    \"     "
   ]
  },
  {
   "cell_type": "code",
   "execution_count": 42,
   "id": "f4fd76bb-9380-4297-b482-bfba7aabb3bb",
   "metadata": {},
   "outputs": [
    {
     "data": {
      "text/plain": [
       "'     adnan  khan    '"
      ]
     },
     "execution_count": 42,
     "metadata": {},
     "output_type": "execute_result"
    }
   ],
   "source": [
    "name2"
   ]
  },
  {
   "cell_type": "code",
   "execution_count": 44,
   "id": "b4e1ce52-21c0-43ac-963f-3eced7d86471",
   "metadata": {},
   "outputs": [
    {
     "data": {
      "text/plain": [
       "'adnan  khan    '"
      ]
     },
     "execution_count": 44,
     "metadata": {},
     "output_type": "execute_result"
    }
   ],
   "source": [
    "name2.lstrip()"
   ]
  },
  {
   "cell_type": "code",
   "execution_count": 45,
   "id": "e66c5b20-bdd0-418e-a738-380737afcf6a",
   "metadata": {},
   "outputs": [
    {
     "data": {
      "text/plain": [
       "'     adnan  khan'"
      ]
     },
     "execution_count": 45,
     "metadata": {},
     "output_type": "execute_result"
    }
   ],
   "source": [
    "name2.rstrip()"
   ]
  },
  {
   "cell_type": "code",
   "execution_count": 46,
   "id": "bb3168a2-9a19-4a29-800a-5931b2373989",
   "metadata": {},
   "outputs": [
    {
     "data": {
      "text/plain": [
       "'adnan  khan'"
      ]
     },
     "execution_count": 46,
     "metadata": {},
     "output_type": "execute_result"
    }
   ],
   "source": [
    "name2.strip()"
   ]
  },
  {
   "cell_type": "code",
   "execution_count": 49,
   "id": "bd7da7cb-8d3d-4b77-a479-179fd7a3f85b",
   "metadata": {},
   "outputs": [
    {
     "data": {
      "text/plain": [
       "'sony khan'"
      ]
     },
     "execution_count": 49,
     "metadata": {},
     "output_type": "execute_result"
    }
   ],
   "source": [
    "name3 = \"sony khan\"\n",
    "name3"
   ]
  },
  {
   "cell_type": "code",
   "execution_count": 50,
   "id": "788692f7-8126-44f5-a19b-71dd135121eb",
   "metadata": {},
   "outputs": [
    {
     "data": {
      "text/plain": [
       "<function str.center(width, fillchar=' ', /)>"
      ]
     },
     "execution_count": 50,
     "metadata": {},
     "output_type": "execute_result"
    }
   ],
   "source": [
    "name3.center"
   ]
  },
  {
   "cell_type": "code",
   "execution_count": 51,
   "id": "e5083def-7930-4230-b9db-492bb59f2908",
   "metadata": {},
   "outputs": [
    {
     "data": {
      "text/plain": [
       "'********************sony khan*********************'"
      ]
     },
     "execution_count": 51,
     "metadata": {},
     "output_type": "execute_result"
    }
   ],
   "source": [
    "name3.center(50, '*')"
   ]
  },
  {
   "cell_type": "code",
   "execution_count": 54,
   "id": "7b782078-0417-4cb4-bc59-d32e97463061",
   "metadata": {},
   "outputs": [],
   "source": [
    "name4 = \"Rahen\""
   ]
  },
  {
   "cell_type": "code",
   "execution_count": 55,
   "id": "29cffe2b-82bd-49ee-a98e-3523f5fff70a",
   "metadata": {},
   "outputs": [
    {
     "data": {
      "text/plain": [
       "False"
      ]
     },
     "execution_count": 55,
     "metadata": {},
     "output_type": "execute_result"
    }
   ],
   "source": [
    "name4.islower()"
   ]
  },
  {
   "cell_type": "code",
   "execution_count": 57,
   "id": "5ec3adf4-2694-4e16-9a60-f7fa35368ee7",
   "metadata": {},
   "outputs": [],
   "source": [
    "name5 = \"REHAN\""
   ]
  },
  {
   "cell_type": "code",
   "execution_count": 58,
   "id": "0891655e-0f47-4b90-bd0c-9b0f1da6b90c",
   "metadata": {},
   "outputs": [
    {
     "data": {
      "text/plain": [
       "False"
      ]
     },
     "execution_count": 58,
     "metadata": {},
     "output_type": "execute_result"
    }
   ],
   "source": [
    "name4.isupper()"
   ]
  },
  {
   "cell_type": "code",
   "execution_count": 59,
   "id": "2f89575d-8df7-4b6d-80de-a42099d1660a",
   "metadata": {},
   "outputs": [
    {
     "data": {
      "text/plain": [
       "False"
      ]
     },
     "execution_count": 59,
     "metadata": {},
     "output_type": "execute_result"
    }
   ],
   "source": [
    "name4.isspace()"
   ]
  },
  {
   "cell_type": "code",
   "execution_count": 60,
   "id": "3704e1bd-a99a-45b6-ada9-da9826d83e46",
   "metadata": {},
   "outputs": [
    {
     "data": {
      "text/plain": [
       "'Rahen'"
      ]
     },
     "execution_count": 60,
     "metadata": {},
     "output_type": "execute_result"
    }
   ],
   "source": [
    "name4"
   ]
  },
  {
   "cell_type": "code",
   "execution_count": 61,
   "id": "b6c1f022-d07b-4b51-86b6-c0d7cc3ab5bd",
   "metadata": {},
   "outputs": [],
   "source": [
    "a = \"  \""
   ]
  },
  {
   "cell_type": "code",
   "execution_count": 62,
   "id": "d3a5cf48-a760-4385-be91-f937019310f0",
   "metadata": {},
   "outputs": [
    {
     "data": {
      "text/plain": [
       "True"
      ]
     },
     "execution_count": 62,
     "metadata": {},
     "output_type": "execute_result"
    }
   ],
   "source": [
    "a.isspace()"
   ]
  },
  {
   "cell_type": "code",
   "execution_count": null,
   "id": "2462634c-19a9-4b7c-9cc4-03bf1e3b3e0c",
   "metadata": {},
   "outputs": [],
   "source": [
    "a.en"
   ]
  }
 ],
 "metadata": {
  "kernelspec": {
   "display_name": "Python 3 (ipykernel)",
   "language": "python",
   "name": "python3"
  },
  "language_info": {
   "codemirror_mode": {
    "name": "ipython",
    "version": 3
   },
   "file_extension": ".py",
   "mimetype": "text/x-python",
   "name": "python",
   "nbconvert_exporter": "python",
   "pygments_lexer": "ipython3",
   "version": "3.12.4"
  }
 },
 "nbformat": 4,
 "nbformat_minor": 5
}
