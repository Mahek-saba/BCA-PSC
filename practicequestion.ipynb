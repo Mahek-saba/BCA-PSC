{
 "cells": [
  {
   "cell_type": "raw",
   "id": "a90a8dc8-15bc-44cd-b6a7-bc014a20d341",
   "metadata": {},
   "source": [
    "s = \"this is My First Python programming class and i am learNING python string and its function\" 1 .  index one to Try to extract data fromindex 300 with a jump of 3 2. Try to reverse a string without using reverse function 3. Try to split a string after conversion of entire string in uppercase 4. try to convert the whole string into lower case 5 . Try to capitalize the whole string 6 . Write a diference between isalnum() and isalpha() 7. Try to give an example of expand tab 8 . Give an example of strip , lstrip and rstrip 9. Replace a string charecter by another charector by taking your own example \"Your Name\" 10 . Try to give a defination of string center function with and exmple 11 . Write your own definition of compiler and interpretor without copy paste form internet in your own language 12 . Python is a interpreted of compiled language give a clear ans with your understanding 13 . Try to write a usecase of python with your understanding ."
   ]
  },
  {
   "cell_type": "code",
   "execution_count": 8,
   "id": "d4785514-00c4-4a3a-910b-c2d09b60be67",
   "metadata": {},
   "outputs": [],
   "source": [
    "s = \"this my frist python programming class and i am learning python string and its function\""
   ]
  },
  {
   "cell_type": "code",
   "execution_count": 9,
   "id": "40187174-fc9a-4d4d-ae27-d976a0201c59",
   "metadata": {},
   "outputs": [],
   "source": [
    "#try to extract data from index one to index 300 with a jump of 3"
   ]
  },
  {
   "cell_type": "code",
   "execution_count": 10,
   "id": "6b0991c1-6e3c-4e4b-b08d-d17011cb50ff",
   "metadata": {},
   "outputs": [
    {
     "data": {
      "text/plain": [
       "'h  i tnrrmglsnimengyosi dtfco'"
      ]
     },
     "execution_count": 10,
     "metadata": {},
     "output_type": "execute_result"
    }
   ],
   "source": [
    "s[1:301:3]"
   ]
  },
  {
   "cell_type": "code",
   "execution_count": 12,
   "id": "1f9b2f29-d0bb-486c-957a-e98f6d195d82",
   "metadata": {},
   "outputs": [],
   "source": [
    "#Try to reverse a string without using reverse function"
   ]
  },
  {
   "cell_type": "code",
   "execution_count": 13,
   "id": "2a0481c3-ea65-4fa3-89fa-07456833c728",
   "metadata": {},
   "outputs": [
    {
     "data": {
      "text/plain": [
       "'noitcnuf sti dna gnirts nohtyp gninrael ma i dna ssalc gnimmargorp nohtyp tsirf ym siht'"
      ]
     },
     "execution_count": 13,
     "metadata": {},
     "output_type": "execute_result"
    }
   ],
   "source": [
    "s[::-1]"
   ]
  },
  {
   "cell_type": "code",
   "execution_count": 14,
   "id": "2e0221c6-ac0f-4aec-b0ee-2ec353e257a7",
   "metadata": {},
   "outputs": [],
   "source": [
    "#Try to split a string after conversion of entire string in uppercase"
   ]
  },
  {
   "cell_type": "code",
   "execution_count": 15,
   "id": "7b36ba21-d3e5-482a-a8e7-5aeb537ceeab",
   "metadata": {},
   "outputs": [
    {
     "data": {
      "text/plain": [
       "'THIS MY FRIST PYTHON PROGRAMMING CLASS AND I AM LEARNING PYTHON STRING AND ITS FUNCTION'"
      ]
     },
     "execution_count": 15,
     "metadata": {},
     "output_type": "execute_result"
    }
   ],
   "source": [
    "s.upper()"
   ]
  },
  {
   "cell_type": "code",
   "execution_count": 16,
   "id": "a6a6ba22-08ec-43c9-b46e-0938925fe6cd",
   "metadata": {},
   "outputs": [
    {
     "data": {
      "text/plain": [
       "['THIS',\n",
       " 'MY',\n",
       " 'FRIST',\n",
       " 'PYTHON',\n",
       " 'PROGRAMMING',\n",
       " 'CLASS',\n",
       " 'AND',\n",
       " 'I',\n",
       " 'AM',\n",
       " 'LEARNING',\n",
       " 'PYTHON',\n",
       " 'STRING',\n",
       " 'AND',\n",
       " 'ITS',\n",
       " 'FUNCTION']"
      ]
     },
     "execution_count": 16,
     "metadata": {},
     "output_type": "execute_result"
    }
   ],
   "source": [
    "s.upper() .split()"
   ]
  },
  {
   "cell_type": "code",
   "execution_count": 17,
   "id": "f385374b-957a-4b49-9e5e-a2efa88bcd46",
   "metadata": {},
   "outputs": [],
   "source": [
    "#try to convert the whole string into lower case"
   ]
  },
  {
   "cell_type": "code",
   "execution_count": 18,
   "id": "23271ed1-1496-489c-81ae-a9899ac04dd2",
   "metadata": {},
   "outputs": [
    {
     "data": {
      "text/plain": [
       "'this my frist python programming class and i am learning python string and its function'"
      ]
     },
     "execution_count": 18,
     "metadata": {},
     "output_type": "execute_result"
    }
   ],
   "source": [
    "s.lower()"
   ]
  },
  {
   "cell_type": "code",
   "execution_count": 19,
   "id": "c85c33dd-0bd0-4179-97c8-befe43182aac",
   "metadata": {},
   "outputs": [],
   "source": [
    "#Try to capitalize the whole string 6 "
   ]
  },
  {
   "cell_type": "code",
   "execution_count": 22,
   "id": "ef1da39b-9a8b-4aa4-90aa-030154b25099",
   "metadata": {},
   "outputs": [
    {
     "data": {
      "text/plain": [
       "'This my frist python programming class and i am learning python string and its function'"
      ]
     },
     "execution_count": 22,
     "metadata": {},
     "output_type": "execute_result"
    }
   ],
   "source": [
    "s.capitalize()"
   ]
  },
  {
   "cell_type": "code",
   "execution_count": 21,
   "id": "de2d85ae-e6a3-47fd-88bf-1167162e6b72",
   "metadata": {},
   "outputs": [],
   "source": [
    " #Write a diference betweenisalnum() and isalpha()"
   ]
  },
  {
   "cell_type": "code",
   "execution_count": 23,
   "id": "cddf7796-26e9-4642-8e3c-453bfff333f0",
   "metadata": {},
   "outputs": [
    {
     "data": {
      "text/plain": [
       "False"
      ]
     },
     "execution_count": 23,
     "metadata": {},
     "output_type": "execute_result"
    }
   ],
   "source": [
    "s.isalnum()"
   ]
  },
  {
   "cell_type": "code",
   "execution_count": 24,
   "id": "beb9bd79-16c1-400c-ae3a-6d0f3104a746",
   "metadata": {},
   "outputs": [
    {
     "data": {
      "text/plain": [
       "<function str.isalpha()>"
      ]
     },
     "execution_count": 24,
     "metadata": {},
     "output_type": "execute_result"
    }
   ],
   "source": [
    "s.isalpha"
   ]
  },
  {
   "cell_type": "code",
   "execution_count": 26,
   "id": "66d3de70-015b-41ad-a4f7-d5a95dff4ea5",
   "metadata": {},
   "outputs": [],
   "source": [
    "#Try to give an example of expand tab "
   ]
  },
  {
   "cell_type": "code",
   "execution_count": null,
   "id": "be54c52f-f919-4f68-a65c-91868dc17a39",
   "metadata": {},
   "outputs": [],
   "source": []
  }
 ],
 "metadata": {
  "kernelspec": {
   "display_name": "Python 3 (ipykernel)",
   "language": "python",
   "name": "python3"
  },
  "language_info": {
   "codemirror_mode": {
    "name": "ipython",
    "version": 3
   },
   "file_extension": ".py",
   "mimetype": "text/x-python",
   "name": "python",
   "nbconvert_exporter": "python",
   "pygments_lexer": "ipython3",
   "version": "3.12.4"
  }
 },
 "nbformat": 4,
 "nbformat_minor": 5
}
