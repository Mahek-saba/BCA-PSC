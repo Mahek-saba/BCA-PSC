{
 "cells": [
  {
   "cell_type": "code",
   "execution_count": 1,
   "id": "49f1ec9e-c8dd-435d-b271-786326997f59",
   "metadata": {},
   "outputs": [],
   "source": [
    "a = True "
   ]
  },
  {
   "cell_type": "code",
   "execution_count": 2,
   "id": "56354ae5-1a0f-4bf7-8175-e0e8455cc8d1",
   "metadata": {},
   "outputs": [
    {
     "data": {
      "text/plain": [
       "True"
      ]
     },
     "execution_count": 2,
     "metadata": {},
     "output_type": "execute_result"
    }
   ],
   "source": [
    "a"
   ]
  },
  {
   "cell_type": "code",
   "execution_count": 3,
   "id": "48566c09-e658-4dd7-b50b-c77137f1c8c4",
   "metadata": {},
   "outputs": [
    {
     "data": {
      "text/plain": [
       "bool"
      ]
     },
     "execution_count": 3,
     "metadata": {},
     "output_type": "execute_result"
    }
   ],
   "source": [
    "type(a)"
   ]
  },
  {
   "cell_type": "code",
   "execution_count": 4,
   "id": "996957f4-16c2-4171-86d0-1de67ed04c77",
   "metadata": {},
   "outputs": [],
   "source": [
    "name = \"sohail shaikh\""
   ]
  },
  {
   "cell_type": "code",
   "execution_count": 5,
   "id": "e3db5e82-550d-45ae-b5d1-062dee8933fc",
   "metadata": {},
   "outputs": [
    {
     "data": {
      "text/plain": [
       "'sohail shaikh'"
      ]
     },
     "execution_count": 5,
     "metadata": {},
     "output_type": "execute_result"
    }
   ],
   "source": [
    "name"
   ]
  },
  {
   "cell_type": "code",
   "execution_count": 6,
   "id": "b721ae7c-1d11-45e4-8df1-91819cff2767",
   "metadata": {},
   "outputs": [
    {
     "data": {
      "text/plain": [
       "'hkiahs liahos'"
      ]
     },
     "execution_count": 6,
     "metadata": {},
     "output_type": "execute_result"
    }
   ],
   "source": [
    "name [12::-1]"
   ]
  },
  {
   "cell_type": "markdown",
   "id": "59f0ae7a-8192-492d-96da-5a8ba529ee4d",
   "metadata": {},
   "source": [
    "name =\"amir hamza\""
   ]
  },
  {
   "cell_type": "code",
   "execution_count": 7,
   "id": "7016b27a-faaf-4cd2-bc52-ac7e877f8283",
   "metadata": {},
   "outputs": [],
   "source": [
    "text = \"he written records of money that a business has spent received\"\n",
    " "
   ]
  },
  {
   "cell_type": "code",
   "execution_count": 8,
   "id": "3d06961e-518f-43da-ace2-4ff82752bb4f",
   "metadata": {},
   "outputs": [
    {
     "data": {
      "text/plain": [
       "'deviecer tneps sah ssenisub a taht yenom fo sdrocer nettirw eh'"
      ]
     },
     "execution_count": 8,
     "metadata": {},
     "output_type": "execute_result"
    }
   ],
   "source": [
    "text[::-1]"
   ]
  },
  {
   "cell_type": "code",
   "execution_count": 9,
   "id": "72398dbc-4cc0-4a29-aefd-780110a46cd6",
   "metadata": {},
   "outputs": [],
   "source": [
    "name = \"namokar kasture\""
   ]
  },
  {
   "cell_type": "code",
   "execution_count": 10,
   "id": "23290c61-f559-4e3f-a71f-15cfca700c63",
   "metadata": {},
   "outputs": [
    {
     "data": {
      "text/plain": [
       "''"
      ]
     },
     "execution_count": 10,
     "metadata": {},
     "output_type": "execute_result"
    }
   ],
   "source": [
    "name[-1:3]"
   ]
  },
  {
   "cell_type": "code",
   "execution_count": 11,
   "id": "faa5f6c0-3378-4969-bdbd-3c42175c470f",
   "metadata": {},
   "outputs": [
    {
     "data": {
      "text/plain": [
       "'euskrk'"
      ]
     },
     "execution_count": 11,
     "metadata": {},
     "output_type": "execute_result"
    }
   ],
   "source": [
    "name[14:-13:-2]"
   ]
  },
  {
   "cell_type": "code",
   "execution_count": 12,
   "id": "5639b7ca-8331-4d63-b04c-bd9c57a40faf",
   "metadata": {},
   "outputs": [
    {
     "data": {
      "text/plain": [
       "'ts'"
      ]
     },
     "execution_count": 12,
     "metadata": {},
     "output_type": "execute_result"
    }
   ],
   "source": [
    "name[11:-6:-1]"
   ]
  },
  {
   "cell_type": "code",
   "execution_count": 13,
   "id": "5d324f80-239b-4100-8541-f0872389dd0d",
   "metadata": {},
   "outputs": [
    {
     "data": {
      "text/plain": [
       "'mkrks'"
      ]
     },
     "execution_count": 13,
     "metadata": {},
     "output_type": "execute_result"
    }
   ],
   "source": [
    "name[2:-3:2]"
   ]
  },
  {
   "cell_type": "code",
   "execution_count": 14,
   "id": "87d32d20-4d1a-43af-90b3-0dca907b4daf",
   "metadata": {},
   "outputs": [
    {
     "data": {
      "text/plain": [
       "'ts'"
      ]
     },
     "execution_count": 14,
     "metadata": {},
     "output_type": "execute_result"
    }
   ],
   "source": [
    "name[11:-6:-1]"
   ]
  },
  {
   "cell_type": "code",
   "execution_count": 15,
   "id": "47326b77-2e14-47b2-a660-bc952f8a4a8f",
   "metadata": {},
   "outputs": [
    {
     "data": {
      "text/plain": [
       "'erutsak rakoman'"
      ]
     },
     "execution_count": 15,
     "metadata": {},
     "output_type": "execute_result"
    }
   ],
   "source": [
    "name[-1::-1]"
   ]
  },
  {
   "cell_type": "code",
   "execution_count": 16,
   "id": "dc181458-419d-43cb-9cb9-60e93be73a72",
   "metadata": {},
   "outputs": [
    {
     "data": {
      "text/plain": [
       "'er'"
      ]
     },
     "execution_count": 16,
     "metadata": {},
     "output_type": "execute_result"
    }
   ],
   "source": [
    "name[:-3:-1]"
   ]
  },
  {
   "cell_type": "code",
   "execution_count": 17,
   "id": "de5d84cd-3a82-4ff2-8673-511362420c0f",
   "metadata": {},
   "outputs": [
    {
     "data": {
      "text/plain": [
       "''"
      ]
     },
     "execution_count": 17,
     "metadata": {},
     "output_type": "execute_result"
    }
   ],
   "source": [
    "name[:-1:-1]"
   ]
  },
  {
   "cell_type": "code",
   "execution_count": 18,
   "id": "41a950c2-208d-4523-b448-505d999cca26",
   "metadata": {},
   "outputs": [
    {
     "data": {
      "text/plain": [
       "'namokar kast'"
      ]
     },
     "execution_count": 18,
     "metadata": {},
     "output_type": "execute_result"
    }
   ],
   "source": [
    "name[:-3:1]"
   ]
  },
  {
   "cell_type": "code",
   "execution_count": 29,
   "id": "44e3972a-03f0-4625-8721-79daea0f9509",
   "metadata": {},
   "outputs": [],
   "source": [
    "s = \"gauhar\""
   ]
  },
  {
   "cell_type": "code",
   "execution_count": 20,
   "id": "f148996f-d860-42c6-8bce-b2b3c8721115",
   "metadata": {},
   "outputs": [
    {
     "data": {
      "text/plain": [
       "'guhar'"
      ]
     },
     "execution_count": 20,
     "metadata": {},
     "output_type": "execute_result"
    }
   ],
   "source": [
    "s"
   ]
  },
  {
   "cell_type": "code",
   "execution_count": 21,
   "id": "67605c99-262b-4d6c-964f-257f16d29d6e",
   "metadata": {},
   "outputs": [
    {
     "data": {
      "text/plain": [
       "'guhar510'"
      ]
     },
     "execution_count": 21,
     "metadata": {},
     "output_type": "execute_result"
    }
   ],
   "source": [
    "s+'510'"
   ]
  },
  {
   "cell_type": "code",
   "execution_count": 22,
   "id": "c5de0298-500f-43b7-8c85-0ae2a8a28174",
   "metadata": {},
   "outputs": [
    {
     "data": {
      "text/plain": [
       "'guhar510'"
      ]
     },
     "execution_count": 22,
     "metadata": {},
     "output_type": "execute_result"
    }
   ],
   "source": [
    "s+str(510)"
   ]
  },
  {
   "cell_type": "code",
   "execution_count": 23,
   "id": "9ba4f897-05ba-4faf-ae5e-8a8ba44aeb35",
   "metadata": {},
   "outputs": [
    {
     "data": {
      "text/plain": [
       "'guharguharguharguharguhar'"
      ]
     },
     "execution_count": 23,
     "metadata": {},
     "output_type": "execute_result"
    }
   ],
   "source": [
    "s*5"
   ]
  },
  {
   "cell_type": "code",
   "execution_count": 30,
   "id": "3dfef7b5-0a54-44fe-9e4e-9ab9f3c0bb0b",
   "metadata": {},
   "outputs": [
    {
     "data": {
      "text/plain": [
       "1"
      ]
     },
     "execution_count": 30,
     "metadata": {},
     "output_type": "execute_result"
    }
   ],
   "source": [
    "s.count('au')"
   ]
  },
  {
   "cell_type": "code",
   "execution_count": 35,
   "id": "8866113b-90a7-4a7c-ab2e-9e8fc34eb117",
   "metadata": {},
   "outputs": [
    {
     "data": {
      "text/plain": [
       "['ga', 'har']"
      ]
     },
     "execution_count": 35,
     "metadata": {},
     "output_type": "execute_result"
    }
   ],
   "source": [
    "s.split('u')"
   ]
  },
  {
   "cell_type": "code",
   "execution_count": 36,
   "id": "68ca0782-d546-4c44-af52-466eff544478",
   "metadata": {},
   "outputs": [
    {
     "data": {
      "text/plain": [
       "list"
      ]
     },
     "execution_count": 36,
     "metadata": {},
     "output_type": "execute_result"
    }
   ],
   "source": [
    "type(s.split('u'))"
   ]
  },
  {
   "cell_type": "code",
   "execution_count": 56,
   "id": "a59d1448-a2fb-4648-8f63-6644ec642b56",
   "metadata": {},
   "outputs": [],
   "source": [
    "d=\"lorem ipsum dolor sit amet, consectetur adipiscing elit. Aliquam placerat diam non felis mattis, et feugiat nulla tincidunt. Integer vel arcu mattis, malesuada enim vitae, vehicula urna. Mauris gravida odio et bibendum aliquet. Aenean iaculis sem ut ligula convallis, id rhoncus tellus tempor. Praesent sollicitudin congue nibh quis convallis. Nulla facilisi. In sagittis eget lacus in pellentesque.\" "
   ]
  },
  {
   "cell_type": "code",
   "execution_count": 59,
   "id": "7acbd5f0-c569-4f0f-b670-d74b431a1156",
   "metadata": {},
   "outputs": [
    {
     "data": {
      "text/plain": [
       "['lorem',\n",
       " 'ipsum',\n",
       " 'dolor',\n",
       " 'sit',\n",
       " 'amet,',\n",
       " 'consectetur',\n",
       " 'adipiscing',\n",
       " 'elit.',\n",
       " 'Aliquam',\n",
       " 'placerat',\n",
       " 'diam',\n",
       " 'non',\n",
       " 'felis',\n",
       " 'mattis,',\n",
       " 'et',\n",
       " 'feugiat',\n",
       " 'nulla',\n",
       " 'tincidunt.',\n",
       " 'Integer',\n",
       " 'vel',\n",
       " 'arcu',\n",
       " 'mattis,',\n",
       " 'malesuada',\n",
       " 'enim',\n",
       " 'vitae,',\n",
       " 'vehicula',\n",
       " 'urna.',\n",
       " 'Mauris',\n",
       " 'gravida',\n",
       " 'odio',\n",
       " 'et',\n",
       " 'bibendum',\n",
       " 'aliquet.',\n",
       " 'Aenean',\n",
       " 'iaculis',\n",
       " 'sem',\n",
       " 'ut',\n",
       " 'ligula',\n",
       " 'convallis,',\n",
       " 'id',\n",
       " 'rhoncus',\n",
       " 'tellus',\n",
       " 'tempor.',\n",
       " 'Praesent',\n",
       " 'sollicitudin',\n",
       " 'congue',\n",
       " 'nibh',\n",
       " 'quis',\n",
       " 'convallis.',\n",
       " 'Nulla',\n",
       " 'facilisi.',\n",
       " 'In',\n",
       " 'sagittis',\n",
       " 'eget',\n",
       " 'lacus',\n",
       " 'in',\n",
       " 'pellentesque.']"
      ]
     },
     "execution_count": 59,
     "metadata": {},
     "output_type": "execute_result"
    }
   ],
   "source": [
    "(d).split(' ')"
   ]
  },
  {
   "cell_type": "code",
   "execution_count": 68,
   "id": "f1f3faac-801b-4f76-9b5d-599bfc3ea193",
   "metadata": {},
   "outputs": [
    {
     "data": {
      "text/plain": [
       "'lorem ipsum dolor sit amet, consectetur adipiscing elit. aliquam placerat diam non felis mattis, et feugiat nulla tincidunt. integer vel arcu mattis, malesuada enim vitae, vehicula urna. mauris gravida odio et bibendum aliquet. aenean iaculis sem ut ligula convallis, id rhoncus tellus tempor. praesent sollicitudin congue nibh quis convallis. nulla facilisi. in sagittis eget lacus in pellentesque.'"
      ]
     },
     "execution_count": 68,
     "metadata": {},
     "output_type": "execute_result"
    }
   ],
   "source": [
    "lorem.lower()"
   ]
  },
  {
   "cell_type": "code",
   "execution_count": 69,
   "id": "d8c8aaf3-4a6b-424d-b938-280d115ba47a",
   "metadata": {},
   "outputs": [],
   "source": [
    "name = \"Amir Rampure\""
   ]
  },
  {
   "cell_type": "code",
   "execution_count": 70,
   "id": "9675cd20-4cd0-4f85-abb3-32192f34e15f",
   "metadata": {},
   "outputs": [
    {
     "data": {
      "text/plain": [
       "'Amir Rampure'"
      ]
     },
     "execution_count": 70,
     "metadata": {},
     "output_type": "execute_result"
    }
   ],
   "source": [
    "name.title()"
   ]
  },
  {
   "cell_type": "code",
   "execution_count": 75,
   "id": "af252f28-7012-4d5a-ac67-453d3a0bc7ac",
   "metadata": {},
   "outputs": [
    {
     "data": {
      "text/plain": [
       "'Amir rampure'"
      ]
     },
     "execution_count": 75,
     "metadata": {},
     "output_type": "execute_result"
    }
   ],
   "source": [
    "name.capitalize()"
   ]
  },
  {
   "cell_type": "code",
   "execution_count": 79,
   "id": "8d8301d7-ed0d-4508-976f-99b0529122b9",
   "metadata": {},
   "outputs": [],
   "source": [
    "name = \"aMIR rAMpure\""
   ]
  },
  {
   "cell_type": "code",
   "execution_count": 80,
   "id": "23491ab3-e237-446a-bc83-a0e0535b9056",
   "metadata": {},
   "outputs": [
    {
     "data": {
      "text/plain": [
       "'aMIR rAMpure'"
      ]
     },
     "execution_count": 80,
     "metadata": {},
     "output_type": "execute_result"
    }
   ],
   "source": [
    "name"
   ]
  },
  {
   "cell_type": "code",
   "execution_count": 81,
   "id": "a59c10a4-6a35-445c-8c7b-f87e3898f472",
   "metadata": {},
   "outputs": [
    {
     "data": {
      "text/plain": [
       "'Amir RamPURE'"
      ]
     },
     "execution_count": 81,
     "metadata": {},
     "output_type": "execute_result"
    }
   ],
   "source": [
    "name.swapcase()"
   ]
  },
  {
   "cell_type": "code",
   "execution_count": 94,
   "id": "eee47266-8718-425f-b06e-7dab0ed3bde3",
   "metadata": {},
   "outputs": [],
   "source": [
    "name = \"   amir rampure    \""
   ]
  },
  {
   "cell_type": "code",
   "execution_count": 84,
   "id": "7c3adde2-b551-4c47-95ee-af9a77a62636",
   "metadata": {},
   "outputs": [
    {
     "data": {
      "text/plain": [
       "'amir rampure'"
      ]
     },
     "execution_count": 84,
     "metadata": {},
     "output_type": "execute_result"
    }
   ],
   "source": [
    "name.strip()"
   ]
  },
  {
   "cell_type": "code",
   "execution_count": 87,
   "id": "b477c27c-5087-4063-b4f2-86ad4dc5073c",
   "metadata": {},
   "outputs": [
    {
     "data": {
      "text/plain": [
       "'amir rampure   '"
      ]
     },
     "execution_count": 87,
     "metadata": {},
     "output_type": "execute_result"
    }
   ],
   "source": [
    "name.lstrip()"
   ]
  },
  {
   "cell_type": "code",
   "execution_count": 90,
   "id": "7f83793a-767f-41e1-ba7e-b719648d85a9",
   "metadata": {},
   "outputs": [
    {
     "data": {
      "text/plain": [
       "'   amir rampure'"
      ]
     },
     "execution_count": 90,
     "metadata": {},
     "output_type": "execute_result"
    }
   ],
   "source": [
    "name.rstrip()"
   ]
  },
  {
   "cell_type": "code",
   "execution_count": 96,
   "id": "fe1d17f5-e9b1-47c5-95db-9aa654838353",
   "metadata": {},
   "outputs": [
    {
     "data": {
      "text/plain": [
       "'#############   amir rampure    #############'"
      ]
     },
     "execution_count": 96,
     "metadata": {},
     "output_type": "execute_result"
    }
   ],
   "source": [
    "name.center(45, '#')"
   ]
  },
  {
   "cell_type": "code",
   "execution_count": 97,
   "id": "98fe75e5-3b34-42c9-88ea-500329354f03",
   "metadata": {},
   "outputs": [
    {
     "data": {
      "text/plain": [
       "True"
      ]
     },
     "execution_count": 97,
     "metadata": {},
     "output_type": "execute_result"
    }
   ],
   "source": [
    "name.islower()"
   ]
  },
  {
   "cell_type": "code",
   "execution_count": 98,
   "id": "6e037bda-0076-48ee-9853-b3cf5767f89c",
   "metadata": {},
   "outputs": [
    {
     "data": {
      "text/plain": [
       "False"
      ]
     },
     "execution_count": 98,
     "metadata": {},
     "output_type": "execute_result"
    }
   ],
   "source": [
    "name.isspace()"
   ]
  },
  {
   "cell_type": "code",
   "execution_count": 99,
   "id": "ccae66fa-2193-41a0-97be-150899349765",
   "metadata": {},
   "outputs": [],
   "source": [
    "s = \" \""
   ]
  },
  {
   "cell_type": "code",
   "execution_count": 100,
   "id": "5ea3dd8e-c9eb-4523-b018-11d8b36ef8dc",
   "metadata": {},
   "outputs": [
    {
     "data": {
      "text/plain": [
       "True"
      ]
     },
     "execution_count": 100,
     "metadata": {},
     "output_type": "execute_result"
    }
   ],
   "source": [
    "s.isspace()"
   ]
  },
  {
   "cell_type": "code",
   "execution_count": 103,
   "id": "ef7b5ff6-9cfb-469d-bc9d-6d0b926ae444",
   "metadata": {},
   "outputs": [],
   "source": [
    "d = \"9898121207\""
   ]
  },
  {
   "cell_type": "code",
   "execution_count": 104,
   "id": "96ceb98e-a3ac-430f-9003-765335baae34",
   "metadata": {},
   "outputs": [
    {
     "data": {
      "text/plain": [
       "True"
      ]
     },
     "execution_count": 104,
     "metadata": {},
     "output_type": "execute_result"
    }
   ],
   "source": [
    "d.isdigit()"
   ]
  },
  {
   "cell_type": "code",
   "execution_count": 105,
   "id": "6d81c1ca-17bc-4785-8fa4-d30509125c30",
   "metadata": {},
   "outputs": [
    {
     "data": {
      "text/plain": [
       "False"
      ]
     },
     "execution_count": 105,
     "metadata": {},
     "output_type": "execute_result"
    }
   ],
   "source": [
    "d.isalpha()"
   ]
  },
  {
   "cell_type": "code",
   "execution_count": 106,
   "id": "babdcf5c-be08-4401-8b24-68cc15934b34",
   "metadata": {},
   "outputs": [],
   "source": [
    "a = \"sohail\""
   ]
  },
  {
   "cell_type": "code",
   "execution_count": 107,
   "id": "2b71112a-f50b-4fce-8d41-dda5d8e63c05",
   "metadata": {},
   "outputs": [
    {
     "data": {
      "text/plain": [
       "True"
      ]
     },
     "execution_count": 107,
     "metadata": {},
     "output_type": "execute_result"
    }
   ],
   "source": [
    "a.isalpha()"
   ]
  },
  {
   "cell_type": "code",
   "execution_count": null,
   "id": "ed67da82-8b07-4409-9b24-4d3a18baa43d",
   "metadata": {},
   "outputs": [],
   "source": []
  }
 ],
 "metadata": {
  "kernelspec": {
   "display_name": "Python 3 (ipykernel)",
   "language": "python",
   "name": "python3"
  },
  "language_info": {
   "codemirror_mode": {
    "name": "ipython",
    "version": 3
   },
   "file_extension": ".py",
   "mimetype": "text/x-python",
   "name": "python",
   "nbconvert_exporter": "python",
   "pygments_lexer": "ipython3",
   "version": "3.12.4"
  }
 },
 "nbformat": 4,
 "nbformat_minor": 5
}
