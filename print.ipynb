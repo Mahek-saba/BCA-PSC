{
 "cells": [
  {
   "cell_type": "code",
   "execution_count": 1,
   "id": "964deb69-9e00-4ab6-9e4c-b51ff6827249",
   "metadata": {},
   "outputs": [],
   "source": [
    "a =2                                   "
   ]
  },
  {
   "cell_type": "code",
   "execution_count": 2,
   "id": "549cb30e-60b7-4851-ac6f-c7c7c8114a77",
   "metadata": {},
   "outputs": [
    {
     "data": {
      "text/plain": [
       "2"
      ]
     },
     "execution_count": 2,
     "metadata": {},
     "output_type": "execute_result"
    }
   ],
   "source": [
    "a"
   ]
  },
  {
   "cell_type": "code",
   "execution_count": 4,
   "id": "c335a897-8d63-4264-a78b-5df8a4dd0476",
   "metadata": {},
   "outputs": [
    {
     "name": "stdout",
     "output_type": "stream",
     "text": [
      "2\n"
     ]
    }
   ],
   "source": [
    "print(a)"
   ]
  },
  {
   "cell_type": "code",
   "execution_count": 5,
   "id": "7bfb0552-dd6b-4e18-b71e-094b6c7dc7a7",
   "metadata": {},
   "outputs": [],
   "source": [
    "a =2"
   ]
  },
  {
   "cell_type": "code",
   "execution_count": 6,
   "id": "02243856-e3a7-49fe-8ca6-1040aee64f60",
   "metadata": {},
   "outputs": [
    {
     "name": "stdout",
     "output_type": "stream",
     "text": [
      "2\n"
     ]
    }
   ],
   "source": [
    "# library function or inbuilt function \n",
    "print(a)"
   ]
  },
  {
   "cell_type": "code",
   "execution_count": 7,
   "id": "accefc3f-200b-453b-8ba6-fbba5fcde110",
   "metadata": {},
   "outputs": [
    {
     "name": "stdout",
     "output_type": "stream",
     "text": [
      "mahek shaikh\n"
     ]
    }
   ],
   "source": [
    "print(\"mahek shaikh\")"
   ]
  },
  {
   "cell_type": "code",
   "execution_count": 8,
   "id": "0ab63280-9b55-4950-a417-4520a5f198c5",
   "metadata": {},
   "outputs": [],
   "source": [
    "name = \"mahek shaikh\""
   ]
  },
  {
   "cell_type": "code",
   "execution_count": 9,
   "id": "89504367-1faf-4afe-b13c-821297aa83bc",
   "metadata": {},
   "outputs": [
    {
     "name": "stdout",
     "output_type": "stream",
     "text": [
      "mahek shaikh\n"
     ]
    }
   ],
   "source": [
    "print(name)"
   ]
  },
  {
   "cell_type": "code",
   "execution_count": 10,
   "id": "409827c8-9509-44a4-b1d2-74a3f9c95dbd",
   "metadata": {},
   "outputs": [
    {
     "data": {
      "text/plain": [
       "'mahek shaikh'"
      ]
     },
     "execution_count": 10,
     "metadata": {},
     "output_type": "execute_result"
    }
   ],
   "source": [
    "name"
   ]
  },
  {
   "cell_type": "code",
   "execution_count": 11,
   "id": "8d967e7f-c339-45a4-8b3f-c209a53f0f57",
   "metadata": {},
   "outputs": [
    {
     "data": {
      "text/plain": [
       "2"
      ]
     },
     "execution_count": 11,
     "metadata": {},
     "output_type": "execute_result"
    }
   ],
   "source": [
    "a"
   ]
  },
  {
   "cell_type": "code",
   "execution_count": 13,
   "id": "3fe50d3b-c4da-4a67-ae09-755655b1ddef",
   "metadata": {},
   "outputs": [
    {
     "ename": "TypeError",
     "evalue": "cannot unpack non-iterable int object",
     "output_type": "error",
     "traceback": [
      "\u001b[0;31m---------------------------------------------------------------------------\u001b[0m",
      "\u001b[0;31mTypeError\u001b[0m                                 Traceback (most recent call last)",
      "Cell \u001b[0;32mIn[13], line 1\u001b[0m\n\u001b[0;32m----> 1\u001b[0m a,b,c \u001b[38;5;241m=\u001b[39m \u001b[38;5;241m5\u001b[39m\n",
      "\u001b[0;31mTypeError\u001b[0m: cannot unpack non-iterable int object"
     ]
    }
   ],
   "source": [
    "a,b,c = 5"
   ]
  },
  {
   "cell_type": "code",
   "execution_count": 14,
   "id": "ffbd6e3c-b05b-4aca-b1a1-dd52163a23ab",
   "metadata": {},
   "outputs": [],
   "source": [
    "a,b,c = 5,4,7"
   ]
  },
  {
   "cell_type": "code",
   "execution_count": 15,
   "id": "4290911a-258e-447b-996d-7c6dd12a8792",
   "metadata": {},
   "outputs": [],
   "source": [
    "a = b = c = 7"
   ]
  },
  {
   "cell_type": "code",
   "execution_count": 16,
   "id": "ac008833-1644-43ad-9ffa-05444f3381f4",
   "metadata": {},
   "outputs": [
    {
     "name": "stdout",
     "output_type": "stream",
     "text": [
      "7 7 7\n"
     ]
    }
   ],
   "source": [
    "print(a,b,c)"
   ]
  },
  {
   "cell_type": "code",
   "execution_count": 17,
   "id": "282dba3c-4797-4661-94c0-a5e620d36bc2",
   "metadata": {},
   "outputs": [
    {
     "ename": "SyntaxError",
     "evalue": "invalid syntax (3112595770.py, line 1)",
     "output_type": "error",
     "traceback": [
      "\u001b[0;36m  Cell \u001b[0;32mIn[17], line 1\u001b[0;36m\u001b[0m\n\u001b[0;31m    o/p--> 7,7,7,\u001b[0m\n\u001b[0m        ^\u001b[0m\n\u001b[0;31mSyntaxError\u001b[0m\u001b[0;31m:\u001b[0m invalid syntax\n"
     ]
    }
   ],
   "source": [
    "o/p--> 7,7,7,"
   ]
  },
  {
   "cell_type": "code",
   "execution_count": 18,
   "id": "f57880cf-0d88-4a65-b330-0e06303ea526",
   "metadata": {},
   "outputs": [
    {
     "ename": "SyntaxError",
     "evalue": "Missing parentheses in call to 'print'. Did you mean print(...)? (848251847.py, line 1)",
     "output_type": "error",
     "traceback": [
      "\u001b[0;36m  Cell \u001b[0;32mIn[18], line 1\u001b[0;36m\u001b[0m\n\u001b[0;31m    print 7, 7, 7,\u001b[0m\n\u001b[0m    ^\u001b[0m\n\u001b[0;31mSyntaxError\u001b[0m\u001b[0;31m:\u001b[0m Missing parentheses in call to 'print'. Did you mean print(...)?\n"
     ]
    }
   ],
   "source": [
    "print 7, 7, 7,"
   ]
  },
  {
   "cell_type": "code",
   "execution_count": 19,
   "id": "d83bfbb7-234f-4e84-8f01-3fc5298e946e",
   "metadata": {},
   "outputs": [
    {
     "name": "stdout",
     "output_type": "stream",
     "text": [
      "7 7 7\n"
     ]
    }
   ],
   "source": [
    "print(7,7,7,)"
   ]
  },
  {
   "cell_type": "code",
   "execution_count": 20,
   "id": "0c131e11-f127-4f80-a5d9-0c90a7215c64",
   "metadata": {},
   "outputs": [
    {
     "ename": "SyntaxError",
     "evalue": "invalid syntax. Perhaps you forgot a comma? (526950876.py, line 1)",
     "output_type": "error",
     "traceback": [
      "\u001b[0;36m  Cell \u001b[0;32mIn[20], line 1\u001b[0;36m\u001b[0m\n\u001b[0;31m    print (7 7 7)\u001b[0m\n\u001b[0m           ^\u001b[0m\n\u001b[0;31mSyntaxError\u001b[0m\u001b[0;31m:\u001b[0m invalid syntax. Perhaps you forgot a comma?\n"
     ]
    }
   ],
   "source": [
    "print (7 7 7)"
   ]
  },
  {
   "cell_type": "code",
   "execution_count": 21,
   "id": "d1a3c1cf-0161-414a-af73-b58d58b98930",
   "metadata": {},
   "outputs": [
    {
     "ename": "SyntaxError",
     "evalue": "invalid syntax (869775796.py, line 1)",
     "output_type": "error",
     "traceback": [
      "\u001b[0;36m  Cell \u001b[0;32mIn[21], line 1\u001b[0;36m\u001b[0m\n\u001b[0;31m    print7 7 7\u001b[0m\n\u001b[0m           ^\u001b[0m\n\u001b[0;31mSyntaxError\u001b[0m\u001b[0;31m:\u001b[0m invalid syntax\n"
     ]
    }
   ],
   "source": [
    "print7 7 7 "
   ]
  },
  {
   "cell_type": "code",
   "execution_count": 22,
   "id": "0fa04049-e832-4516-aaad-84315ac9cb48",
   "metadata": {},
   "outputs": [
    {
     "ename": "SyntaxError",
     "evalue": "Missing parentheses in call to 'print'. Did you mean print(...)? (177513980.py, line 1)",
     "output_type": "error",
     "traceback": [
      "\u001b[0;36m  Cell \u001b[0;32mIn[22], line 1\u001b[0;36m\u001b[0m\n\u001b[0;31m    print 7 7 7\u001b[0m\n\u001b[0m    ^\u001b[0m\n\u001b[0;31mSyntaxError\u001b[0m\u001b[0;31m:\u001b[0m Missing parentheses in call to 'print'. Did you mean print(...)?\n"
     ]
    }
   ],
   "source": [
    "print 7 7 7 "
   ]
  },
  {
   "cell_type": "code",
   "execution_count": 23,
   "id": "08fe541f-cb9e-4aee-9d11-b52e3be0d199",
   "metadata": {},
   "outputs": [
    {
     "name": "stdout",
     "output_type": "stream",
     "text": [
      "7,7,7\n"
     ]
    }
   ],
   "source": [
    "print(a,b,c, sep=',')"
   ]
  },
  {
   "cell_type": "code",
   "execution_count": 24,
   "id": "3606cb71-cb99-4e9e-9f39-19b8b4d06a41",
   "metadata": {},
   "outputs": [
    {
     "ename": "SyntaxError",
     "evalue": "invalid syntax (1543116588.py, line 1)",
     "output_type": "error",
     "traceback": [
      "\u001b[0;36m  Cell \u001b[0;32mIn[24], line 1\u001b[0;36m\u001b[0m\n\u001b[0;31m    print(a,b,c sep='@')\u001b[0m\n\u001b[0m                ^\u001b[0m\n\u001b[0;31mSyntaxError\u001b[0m\u001b[0;31m:\u001b[0m invalid syntax\n"
     ]
    }
   ],
   "source": [
    "print(a,b,c,"
   ]
  },
  {
   "cell_type": "code",
   "execution_count": 26,
   "id": "96f2dc20-e51f-461e-8f7b-303d79fe4350",
   "metadata": {},
   "outputs": [
    {
     "name": "stdout",
     "output_type": "stream",
     "text": [
      "456786\n"
     ]
    }
   ],
   "source": [
    "print(45,67,86, sep =\"\")"
   ]
  },
  {
   "cell_type": "code",
   "execution_count": 27,
   "id": "3c071578-5c9b-461d-84c5-81f675717134",
   "metadata": {},
   "outputs": [
    {
     "name": "stdout",
     "output_type": "stream",
     "text": [
      "mahek shaikh\n",
      "umme tazean\n"
     ]
    }
   ],
   "source": [
    "print('mahek shaikh')\n",
    "print(\"umme tazean\")"
   ]
  },
  {
   "cell_type": "code",
   "execution_count": 29,
   "id": "1a974c0c-f6ff-42b4-b209-bcfef017c325",
   "metadata": {},
   "outputs": [
    {
     "ename": "SyntaxError",
     "evalue": "invalid syntax (1600445237.py, line 1)",
     "output_type": "error",
     "traceback": [
      "\u001b[0;36m  Cell \u001b[0;32mIn[29], line 1\u001b[0;36m\u001b[0m\n\u001b[0;31m    peint('mahek shaikh')print(\"umme tazean\")\u001b[0m\n\u001b[0m                         ^\u001b[0m\n\u001b[0;31mSyntaxError\u001b[0m\u001b[0;31m:\u001b[0m invalid syntax\n"
     ]
    }
   ],
   "source": [
    "peint('mahek shaikh')print(\"umme tazean\")"
   ]
  },
  {
   "cell_type": "code",
   "execution_count": 32,
   "id": "1160f341-86ce-4284-bb4f-dc3d7b35997d",
   "metadata": {},
   "outputs": [
    {
     "ename": "SyntaxError",
     "evalue": "invalid syntax. Perhaps you forgot a comma? (1520390016.py, line 1)",
     "output_type": "error",
     "traceback": [
      "\u001b[0;36m  Cell \u001b[0;32mIn[32], line 1\u001b[0;36m\u001b[0m\n\u001b[0;31m    print(mahek shaikh',end='\\t')\u001b[0m\n\u001b[0m          ^\u001b[0m\n\u001b[0;31mSyntaxError\u001b[0m\u001b[0;31m:\u001b[0m invalid syntax. Perhaps you forgot a comma?\n"
     ]
    }
   ],
   "source": [
    "print(mahek shaikh',end='\\t')\n",
    "print(\"umme tazean\")"
   ]
  },
  {
   "cell_type": "code",
   "execution_count": 33,
   "id": "6c0e310e-873d-4bce-a26d-6b6a3f03bb38",
   "metadata": {},
   "outputs": [
    {
     "name": "stdout",
     "output_type": "stream",
     "text": [
      "mahek shaikh\tumme tazean\n"
     ]
    }
   ],
   "source": [
    "print('mahek shaikh',end='\\t')\n",
    "print(\"umme tazean\")"
   ]
  },
  {
   "cell_type": "code",
   "execution_count": null,
   "id": "5fe97d66-8747-428c-bf22-ce852d198e1c",
   "metadata": {},
   "outputs": [
    {
     "name": "stdout",
     "output_type": "stream",
     "text": [
      "enter two nos.\n"
     ]
    }
   ],
   "source": [
    "print(\"enter two nos.\")\n",
    "input(a)\n",
    "input(b)\n",
    "c =  a+b\n",
    "print(c)"
   ]
  },
  {
   "cell_type": "code",
   "execution_count": null,
   "id": "731e1319-fa7f-476b-ba40-b1d7df305f70",
   "metadata": {},
   "outputs": [],
   "source": [
    "print(\"enter two nos.\")\n",
    "a = int(input (\"input the value of a\"))\n",
    "b =int(input(\"input the value of b\"))\n",
    "c = a + b\n",
    "print(c)\n",
    "    "
   ]
  },
  {
   "cell_type": "code",
   "execution_count": null,
   "id": "e9a1aa8c-cc3f-40e5-a4e5-e7bea2c37603",
   "metadata": {},
   "outputs": [],
   "source": []
  }
 ],
 "metadata": {
  "kernelspec": {
   "display_name": "Python 3 (ipykernel)",
   "language": "python",
   "name": "python3"
  },
  "language_info": {
   "codemirror_mode": {
    "name": "ipython",
    "version": 3
   },
   "file_extension": ".py",
   "mimetype": "text/x-python",
   "name": "python",
   "nbconvert_exporter": "python",
   "pygments_lexer": "ipython3",
   "version": "3.12.4"
  }
 },
 "nbformat": 4,
 "nbformat_minor": 5
}
